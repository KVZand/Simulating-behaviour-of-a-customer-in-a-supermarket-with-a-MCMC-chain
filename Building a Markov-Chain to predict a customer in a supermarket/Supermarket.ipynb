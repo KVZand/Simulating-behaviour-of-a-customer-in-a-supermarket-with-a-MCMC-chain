{
 "cells": [
  {
   "cell_type": "markdown",
   "id": "207afdcc-b36c-4763-9d1d-59374f02390b",
   "metadata": {},
   "source": [
    "# Monte-Carlo-Markov-Chain (MCMC) Simulation of customer behaviour in a supermarket"
   ]
  },
  {
   "cell_type": "code",
   "execution_count": 62,
   "id": "61abce8a-ea35-4797-ac24-38258c0e90e3",
   "metadata": {},
   "outputs": [],
   "source": [
    "import pandas as pd\n",
    "import numpy as np\n",
    "from numpy.random import choice\n",
    "import matplotlib.pyplot as plt\n",
    "import seaborn as sns\n",
    "import random\n",
    "from datetime import datetime\n",
    "\n",
    "plt.rcParams['figure.figsize'] = (14,6)\n",
    "plt.rcParams['legend.loc'] = 'upper left'"
   ]
  },
  {
   "cell_type": "markdown",
   "id": "016f3c86-191e-4256-b871-1fd9c2189b0b",
   "metadata": {},
   "source": [
    "## 1. EDA for the week 2.-6.9.2019"
   ]
  },
  {
   "cell_type": "code",
   "execution_count": 2,
   "id": "f6236559-6d26-40b3-bbc5-98d097389335",
   "metadata": {},
   "outputs": [],
   "source": [
    "df_monday = pd.read_csv('~/Documents/spiced_work/own_code/week8/monday.csv', sep=\";\" )\n",
    "df_tuesday = pd.read_csv('~/Documents/spiced_work/own_code/week8/tuesday.csv', sep=\";\" )\n",
    "df_wednesday = pd.read_csv('~/Documents/spiced_work/own_code/week8/wednesday.csv', sep=\";\" )\n",
    "df_thursday = pd.read_csv('~/Documents/spiced_work/own_code/week8/thursday.csv', sep=\";\" )\n",
    "df_friday = pd.read_csv('~/Documents/spiced_work/own_code/week8/friday.csv', sep=\";\" )"
   ]
  },
  {
   "cell_type": "code",
   "execution_count": 3,
   "id": "90f0b5ae-9d6a-43fa-bac0-61d5721e2279",
   "metadata": {},
   "outputs": [],
   "source": [
    "frames = [df_monday, df_tuesday, df_wednesday, df_thursday, df_friday]"
   ]
  },
  {
   "cell_type": "code",
   "execution_count": 4,
   "id": "801c75bf-7571-46fe-b23b-d6de1237bec7",
   "metadata": {},
   "outputs": [],
   "source": [
    "df_combined = pd.concat(frames)"
   ]
  },
  {
   "cell_type": "code",
   "execution_count": 5,
   "id": "da06be8e-2606-4868-a996-a4b0e1cac88a",
   "metadata": {},
   "outputs": [
    {
     "data": {
      "text/html": [
       "<div>\n",
       "<style scoped>\n",
       "    .dataframe tbody tr th:only-of-type {\n",
       "        vertical-align: middle;\n",
       "    }\n",
       "\n",
       "    .dataframe tbody tr th {\n",
       "        vertical-align: top;\n",
       "    }\n",
       "\n",
       "    .dataframe thead th {\n",
       "        text-align: right;\n",
       "    }\n",
       "</style>\n",
       "<table border=\"1\" class=\"dataframe\">\n",
       "  <thead>\n",
       "    <tr style=\"text-align: right;\">\n",
       "      <th></th>\n",
       "      <th>timestamp</th>\n",
       "      <th>customer_no</th>\n",
       "      <th>location</th>\n",
       "    </tr>\n",
       "  </thead>\n",
       "  <tbody>\n",
       "    <tr>\n",
       "      <th>0</th>\n",
       "      <td>2019-09-02 07:03:00</td>\n",
       "      <td>1</td>\n",
       "      <td>dairy</td>\n",
       "    </tr>\n",
       "    <tr>\n",
       "      <th>1</th>\n",
       "      <td>2019-09-02 07:03:00</td>\n",
       "      <td>2</td>\n",
       "      <td>dairy</td>\n",
       "    </tr>\n",
       "    <tr>\n",
       "      <th>2</th>\n",
       "      <td>2019-09-02 07:04:00</td>\n",
       "      <td>3</td>\n",
       "      <td>dairy</td>\n",
       "    </tr>\n",
       "    <tr>\n",
       "      <th>3</th>\n",
       "      <td>2019-09-02 07:04:00</td>\n",
       "      <td>4</td>\n",
       "      <td>dairy</td>\n",
       "    </tr>\n",
       "    <tr>\n",
       "      <th>4</th>\n",
       "      <td>2019-09-02 07:04:00</td>\n",
       "      <td>5</td>\n",
       "      <td>spices</td>\n",
       "    </tr>\n",
       "    <tr>\n",
       "      <th>5</th>\n",
       "      <td>2019-09-02 07:04:00</td>\n",
       "      <td>6</td>\n",
       "      <td>spices</td>\n",
       "    </tr>\n",
       "    <tr>\n",
       "      <th>6</th>\n",
       "      <td>2019-09-02 07:04:00</td>\n",
       "      <td>7</td>\n",
       "      <td>spices</td>\n",
       "    </tr>\n",
       "    <tr>\n",
       "      <th>7</th>\n",
       "      <td>2019-09-02 07:04:00</td>\n",
       "      <td>8</td>\n",
       "      <td>fruit</td>\n",
       "    </tr>\n",
       "    <tr>\n",
       "      <th>8</th>\n",
       "      <td>2019-09-02 07:05:00</td>\n",
       "      <td>1</td>\n",
       "      <td>checkout</td>\n",
       "    </tr>\n",
       "    <tr>\n",
       "      <th>9</th>\n",
       "      <td>2019-09-02 07:05:00</td>\n",
       "      <td>5</td>\n",
       "      <td>checkout</td>\n",
       "    </tr>\n",
       "    <tr>\n",
       "      <th>10</th>\n",
       "      <td>2019-09-02 07:05:00</td>\n",
       "      <td>6</td>\n",
       "      <td>dairy</td>\n",
       "    </tr>\n",
       "    <tr>\n",
       "      <th>11</th>\n",
       "      <td>2019-09-02 07:05:00</td>\n",
       "      <td>7</td>\n",
       "      <td>drinks</td>\n",
       "    </tr>\n",
       "    <tr>\n",
       "      <th>12</th>\n",
       "      <td>2019-09-02 07:06:00</td>\n",
       "      <td>2</td>\n",
       "      <td>checkout</td>\n",
       "    </tr>\n",
       "    <tr>\n",
       "      <th>13</th>\n",
       "      <td>2019-09-02 07:06:00</td>\n",
       "      <td>3</td>\n",
       "      <td>checkout</td>\n",
       "    </tr>\n",
       "    <tr>\n",
       "      <th>14</th>\n",
       "      <td>2019-09-02 07:06:00</td>\n",
       "      <td>9</td>\n",
       "      <td>dairy</td>\n",
       "    </tr>\n",
       "    <tr>\n",
       "      <th>15</th>\n",
       "      <td>2019-09-02 07:06:00</td>\n",
       "      <td>10</td>\n",
       "      <td>fruit</td>\n",
       "    </tr>\n",
       "    <tr>\n",
       "      <th>16</th>\n",
       "      <td>2019-09-02 07:06:00</td>\n",
       "      <td>11</td>\n",
       "      <td>drinks</td>\n",
       "    </tr>\n",
       "    <tr>\n",
       "      <th>17</th>\n",
       "      <td>2019-09-02 07:06:00</td>\n",
       "      <td>12</td>\n",
       "      <td>spices</td>\n",
       "    </tr>\n",
       "    <tr>\n",
       "      <th>18</th>\n",
       "      <td>2019-09-02 07:06:00</td>\n",
       "      <td>13</td>\n",
       "      <td>dairy</td>\n",
       "    </tr>\n",
       "    <tr>\n",
       "      <th>19</th>\n",
       "      <td>2019-09-02 07:06:00</td>\n",
       "      <td>14</td>\n",
       "      <td>fruit</td>\n",
       "    </tr>\n",
       "    <tr>\n",
       "      <th>20</th>\n",
       "      <td>2019-09-02 07:07:00</td>\n",
       "      <td>8</td>\n",
       "      <td>checkout</td>\n",
       "    </tr>\n",
       "    <tr>\n",
       "      <th>21</th>\n",
       "      <td>2019-09-02 07:07:00</td>\n",
       "      <td>12</td>\n",
       "      <td>drinks</td>\n",
       "    </tr>\n",
       "    <tr>\n",
       "      <th>22</th>\n",
       "      <td>2019-09-02 07:07:00</td>\n",
       "      <td>15</td>\n",
       "      <td>spices</td>\n",
       "    </tr>\n",
       "    <tr>\n",
       "      <th>23</th>\n",
       "      <td>2019-09-02 07:07:00</td>\n",
       "      <td>16</td>\n",
       "      <td>dairy</td>\n",
       "    </tr>\n",
       "    <tr>\n",
       "      <th>24</th>\n",
       "      <td>2019-09-02 07:08:00</td>\n",
       "      <td>4</td>\n",
       "      <td>checkout</td>\n",
       "    </tr>\n",
       "    <tr>\n",
       "      <th>25</th>\n",
       "      <td>2019-09-02 07:08:00</td>\n",
       "      <td>10</td>\n",
       "      <td>checkout</td>\n",
       "    </tr>\n",
       "    <tr>\n",
       "      <th>26</th>\n",
       "      <td>2019-09-02 07:08:00</td>\n",
       "      <td>11</td>\n",
       "      <td>checkout</td>\n",
       "    </tr>\n",
       "    <tr>\n",
       "      <th>27</th>\n",
       "      <td>2019-09-02 07:08:00</td>\n",
       "      <td>15</td>\n",
       "      <td>fruit</td>\n",
       "    </tr>\n",
       "    <tr>\n",
       "      <th>28</th>\n",
       "      <td>2019-09-02 07:09:00</td>\n",
       "      <td>7</td>\n",
       "      <td>spices</td>\n",
       "    </tr>\n",
       "    <tr>\n",
       "      <th>29</th>\n",
       "      <td>2019-09-02 07:09:00</td>\n",
       "      <td>14</td>\n",
       "      <td>checkout</td>\n",
       "    </tr>\n",
       "    <tr>\n",
       "      <th>30</th>\n",
       "      <td>2019-09-02 07:09:00</td>\n",
       "      <td>16</td>\n",
       "      <td>spices</td>\n",
       "    </tr>\n",
       "    <tr>\n",
       "      <th>31</th>\n",
       "      <td>2019-09-02 07:10:00</td>\n",
       "      <td>12</td>\n",
       "      <td>checkout</td>\n",
       "    </tr>\n",
       "    <tr>\n",
       "      <th>32</th>\n",
       "      <td>2019-09-02 07:11:00</td>\n",
       "      <td>7</td>\n",
       "      <td>fruit</td>\n",
       "    </tr>\n",
       "    <tr>\n",
       "      <th>33</th>\n",
       "      <td>2019-09-02 07:11:00</td>\n",
       "      <td>16</td>\n",
       "      <td>checkout</td>\n",
       "    </tr>\n",
       "    <tr>\n",
       "      <th>34</th>\n",
       "      <td>2019-09-02 07:11:00</td>\n",
       "      <td>17</td>\n",
       "      <td>fruit</td>\n",
       "    </tr>\n",
       "    <tr>\n",
       "      <th>35</th>\n",
       "      <td>2019-09-02 07:12:00</td>\n",
       "      <td>9</td>\n",
       "      <td>fruit</td>\n",
       "    </tr>\n",
       "    <tr>\n",
       "      <th>36</th>\n",
       "      <td>2019-09-02 07:12:00</td>\n",
       "      <td>15</td>\n",
       "      <td>checkout</td>\n",
       "    </tr>\n",
       "    <tr>\n",
       "      <th>37</th>\n",
       "      <td>2019-09-02 07:12:00</td>\n",
       "      <td>18</td>\n",
       "      <td>fruit</td>\n",
       "    </tr>\n",
       "    <tr>\n",
       "      <th>38</th>\n",
       "      <td>2019-09-02 07:12:00</td>\n",
       "      <td>19</td>\n",
       "      <td>spices</td>\n",
       "    </tr>\n",
       "    <tr>\n",
       "      <th>39</th>\n",
       "      <td>2019-09-02 07:12:00</td>\n",
       "      <td>20</td>\n",
       "      <td>drinks</td>\n",
       "    </tr>\n",
       "    <tr>\n",
       "      <th>40</th>\n",
       "      <td>2019-09-02 07:13:00</td>\n",
       "      <td>7</td>\n",
       "      <td>checkout</td>\n",
       "    </tr>\n",
       "    <tr>\n",
       "      <th>41</th>\n",
       "      <td>2019-09-02 07:13:00</td>\n",
       "      <td>9</td>\n",
       "      <td>checkout</td>\n",
       "    </tr>\n",
       "    <tr>\n",
       "      <th>42</th>\n",
       "      <td>2019-09-02 07:13:00</td>\n",
       "      <td>13</td>\n",
       "      <td>spices</td>\n",
       "    </tr>\n",
       "    <tr>\n",
       "      <th>43</th>\n",
       "      <td>2019-09-02 07:13:00</td>\n",
       "      <td>19</td>\n",
       "      <td>drinks</td>\n",
       "    </tr>\n",
       "    <tr>\n",
       "      <th>44</th>\n",
       "      <td>2019-09-02 07:13:00</td>\n",
       "      <td>21</td>\n",
       "      <td>drinks</td>\n",
       "    </tr>\n",
       "    <tr>\n",
       "      <th>45</th>\n",
       "      <td>2019-09-02 07:13:00</td>\n",
       "      <td>22</td>\n",
       "      <td>fruit</td>\n",
       "    </tr>\n",
       "    <tr>\n",
       "      <th>46</th>\n",
       "      <td>2019-09-02 07:14:00</td>\n",
       "      <td>13</td>\n",
       "      <td>dairy</td>\n",
       "    </tr>\n",
       "    <tr>\n",
       "      <th>47</th>\n",
       "      <td>2019-09-02 07:14:00</td>\n",
       "      <td>18</td>\n",
       "      <td>dairy</td>\n",
       "    </tr>\n",
       "    <tr>\n",
       "      <th>48</th>\n",
       "      <td>2019-09-02 07:14:00</td>\n",
       "      <td>20</td>\n",
       "      <td>checkout</td>\n",
       "    </tr>\n",
       "    <tr>\n",
       "      <th>49</th>\n",
       "      <td>2019-09-02 07:14:00</td>\n",
       "      <td>23</td>\n",
       "      <td>fruit</td>\n",
       "    </tr>\n",
       "  </tbody>\n",
       "</table>\n",
       "</div>"
      ],
      "text/plain": [
       "              timestamp  customer_no  location\n",
       "0   2019-09-02 07:03:00            1     dairy\n",
       "1   2019-09-02 07:03:00            2     dairy\n",
       "2   2019-09-02 07:04:00            3     dairy\n",
       "3   2019-09-02 07:04:00            4     dairy\n",
       "4   2019-09-02 07:04:00            5    spices\n",
       "5   2019-09-02 07:04:00            6    spices\n",
       "6   2019-09-02 07:04:00            7    spices\n",
       "7   2019-09-02 07:04:00            8     fruit\n",
       "8   2019-09-02 07:05:00            1  checkout\n",
       "9   2019-09-02 07:05:00            5  checkout\n",
       "10  2019-09-02 07:05:00            6     dairy\n",
       "11  2019-09-02 07:05:00            7    drinks\n",
       "12  2019-09-02 07:06:00            2  checkout\n",
       "13  2019-09-02 07:06:00            3  checkout\n",
       "14  2019-09-02 07:06:00            9     dairy\n",
       "15  2019-09-02 07:06:00           10     fruit\n",
       "16  2019-09-02 07:06:00           11    drinks\n",
       "17  2019-09-02 07:06:00           12    spices\n",
       "18  2019-09-02 07:06:00           13     dairy\n",
       "19  2019-09-02 07:06:00           14     fruit\n",
       "20  2019-09-02 07:07:00            8  checkout\n",
       "21  2019-09-02 07:07:00           12    drinks\n",
       "22  2019-09-02 07:07:00           15    spices\n",
       "23  2019-09-02 07:07:00           16     dairy\n",
       "24  2019-09-02 07:08:00            4  checkout\n",
       "25  2019-09-02 07:08:00           10  checkout\n",
       "26  2019-09-02 07:08:00           11  checkout\n",
       "27  2019-09-02 07:08:00           15     fruit\n",
       "28  2019-09-02 07:09:00            7    spices\n",
       "29  2019-09-02 07:09:00           14  checkout\n",
       "30  2019-09-02 07:09:00           16    spices\n",
       "31  2019-09-02 07:10:00           12  checkout\n",
       "32  2019-09-02 07:11:00            7     fruit\n",
       "33  2019-09-02 07:11:00           16  checkout\n",
       "34  2019-09-02 07:11:00           17     fruit\n",
       "35  2019-09-02 07:12:00            9     fruit\n",
       "36  2019-09-02 07:12:00           15  checkout\n",
       "37  2019-09-02 07:12:00           18     fruit\n",
       "38  2019-09-02 07:12:00           19    spices\n",
       "39  2019-09-02 07:12:00           20    drinks\n",
       "40  2019-09-02 07:13:00            7  checkout\n",
       "41  2019-09-02 07:13:00            9  checkout\n",
       "42  2019-09-02 07:13:00           13    spices\n",
       "43  2019-09-02 07:13:00           19    drinks\n",
       "44  2019-09-02 07:13:00           21    drinks\n",
       "45  2019-09-02 07:13:00           22     fruit\n",
       "46  2019-09-02 07:14:00           13     dairy\n",
       "47  2019-09-02 07:14:00           18     dairy\n",
       "48  2019-09-02 07:14:00           20  checkout\n",
       "49  2019-09-02 07:14:00           23     fruit"
      ]
     },
     "execution_count": 5,
     "metadata": {},
     "output_type": "execute_result"
    }
   ],
   "source": [
    "df_monday.head(50)"
   ]
  },
  {
   "cell_type": "code",
   "execution_count": 6,
   "id": "e00da451-d452-4d65-8647-9fe70a121328",
   "metadata": {},
   "outputs": [
    {
     "data": {
      "text/html": [
       "<div>\n",
       "<style scoped>\n",
       "    .dataframe tbody tr th:only-of-type {\n",
       "        vertical-align: middle;\n",
       "    }\n",
       "\n",
       "    .dataframe tbody tr th {\n",
       "        vertical-align: top;\n",
       "    }\n",
       "\n",
       "    .dataframe thead th {\n",
       "        text-align: right;\n",
       "    }\n",
       "</style>\n",
       "<table border=\"1\" class=\"dataframe\">\n",
       "  <thead>\n",
       "    <tr style=\"text-align: right;\">\n",
       "      <th></th>\n",
       "      <th>timestamp</th>\n",
       "      <th>customer_no</th>\n",
       "      <th>location</th>\n",
       "    </tr>\n",
       "  </thead>\n",
       "  <tbody>\n",
       "    <tr>\n",
       "      <th>0</th>\n",
       "      <td>2019-09-02 07:03:00</td>\n",
       "      <td>1</td>\n",
       "      <td>dairy</td>\n",
       "    </tr>\n",
       "    <tr>\n",
       "      <th>1</th>\n",
       "      <td>2019-09-02 07:03:00</td>\n",
       "      <td>2</td>\n",
       "      <td>dairy</td>\n",
       "    </tr>\n",
       "    <tr>\n",
       "      <th>2</th>\n",
       "      <td>2019-09-02 07:04:00</td>\n",
       "      <td>3</td>\n",
       "      <td>dairy</td>\n",
       "    </tr>\n",
       "    <tr>\n",
       "      <th>3</th>\n",
       "      <td>2019-09-02 07:04:00</td>\n",
       "      <td>4</td>\n",
       "      <td>dairy</td>\n",
       "    </tr>\n",
       "    <tr>\n",
       "      <th>4</th>\n",
       "      <td>2019-09-02 07:04:00</td>\n",
       "      <td>5</td>\n",
       "      <td>spices</td>\n",
       "    </tr>\n",
       "    <tr>\n",
       "      <th>5</th>\n",
       "      <td>2019-09-02 07:04:00</td>\n",
       "      <td>6</td>\n",
       "      <td>spices</td>\n",
       "    </tr>\n",
       "    <tr>\n",
       "      <th>6</th>\n",
       "      <td>2019-09-02 07:04:00</td>\n",
       "      <td>7</td>\n",
       "      <td>spices</td>\n",
       "    </tr>\n",
       "    <tr>\n",
       "      <th>7</th>\n",
       "      <td>2019-09-02 07:04:00</td>\n",
       "      <td>8</td>\n",
       "      <td>fruit</td>\n",
       "    </tr>\n",
       "    <tr>\n",
       "      <th>8</th>\n",
       "      <td>2019-09-02 07:05:00</td>\n",
       "      <td>1</td>\n",
       "      <td>checkout</td>\n",
       "    </tr>\n",
       "    <tr>\n",
       "      <th>9</th>\n",
       "      <td>2019-09-02 07:05:00</td>\n",
       "      <td>5</td>\n",
       "      <td>checkout</td>\n",
       "    </tr>\n",
       "    <tr>\n",
       "      <th>10</th>\n",
       "      <td>2019-09-02 07:05:00</td>\n",
       "      <td>6</td>\n",
       "      <td>dairy</td>\n",
       "    </tr>\n",
       "    <tr>\n",
       "      <th>11</th>\n",
       "      <td>2019-09-02 07:05:00</td>\n",
       "      <td>7</td>\n",
       "      <td>drinks</td>\n",
       "    </tr>\n",
       "    <tr>\n",
       "      <th>12</th>\n",
       "      <td>2019-09-02 07:06:00</td>\n",
       "      <td>2</td>\n",
       "      <td>checkout</td>\n",
       "    </tr>\n",
       "    <tr>\n",
       "      <th>13</th>\n",
       "      <td>2019-09-02 07:06:00</td>\n",
       "      <td>3</td>\n",
       "      <td>checkout</td>\n",
       "    </tr>\n",
       "    <tr>\n",
       "      <th>14</th>\n",
       "      <td>2019-09-02 07:06:00</td>\n",
       "      <td>9</td>\n",
       "      <td>dairy</td>\n",
       "    </tr>\n",
       "    <tr>\n",
       "      <th>15</th>\n",
       "      <td>2019-09-02 07:06:00</td>\n",
       "      <td>10</td>\n",
       "      <td>fruit</td>\n",
       "    </tr>\n",
       "    <tr>\n",
       "      <th>16</th>\n",
       "      <td>2019-09-02 07:06:00</td>\n",
       "      <td>11</td>\n",
       "      <td>drinks</td>\n",
       "    </tr>\n",
       "    <tr>\n",
       "      <th>17</th>\n",
       "      <td>2019-09-02 07:06:00</td>\n",
       "      <td>12</td>\n",
       "      <td>spices</td>\n",
       "    </tr>\n",
       "    <tr>\n",
       "      <th>18</th>\n",
       "      <td>2019-09-02 07:06:00</td>\n",
       "      <td>13</td>\n",
       "      <td>dairy</td>\n",
       "    </tr>\n",
       "    <tr>\n",
       "      <th>19</th>\n",
       "      <td>2019-09-02 07:06:00</td>\n",
       "      <td>14</td>\n",
       "      <td>fruit</td>\n",
       "    </tr>\n",
       "  </tbody>\n",
       "</table>\n",
       "</div>"
      ],
      "text/plain": [
       "              timestamp  customer_no  location\n",
       "0   2019-09-02 07:03:00            1     dairy\n",
       "1   2019-09-02 07:03:00            2     dairy\n",
       "2   2019-09-02 07:04:00            3     dairy\n",
       "3   2019-09-02 07:04:00            4     dairy\n",
       "4   2019-09-02 07:04:00            5    spices\n",
       "5   2019-09-02 07:04:00            6    spices\n",
       "6   2019-09-02 07:04:00            7    spices\n",
       "7   2019-09-02 07:04:00            8     fruit\n",
       "8   2019-09-02 07:05:00            1  checkout\n",
       "9   2019-09-02 07:05:00            5  checkout\n",
       "10  2019-09-02 07:05:00            6     dairy\n",
       "11  2019-09-02 07:05:00            7    drinks\n",
       "12  2019-09-02 07:06:00            2  checkout\n",
       "13  2019-09-02 07:06:00            3  checkout\n",
       "14  2019-09-02 07:06:00            9     dairy\n",
       "15  2019-09-02 07:06:00           10     fruit\n",
       "16  2019-09-02 07:06:00           11    drinks\n",
       "17  2019-09-02 07:06:00           12    spices\n",
       "18  2019-09-02 07:06:00           13     dairy\n",
       "19  2019-09-02 07:06:00           14     fruit"
      ]
     },
     "execution_count": 6,
     "metadata": {},
     "output_type": "execute_result"
    }
   ],
   "source": [
    "df_combined.head(20)"
   ]
  },
  {
   "cell_type": "code",
   "execution_count": 7,
   "id": "f9bad733-5b07-47ff-ad8c-53da2f9c647c",
   "metadata": {},
   "outputs": [
    {
     "name": "stdout",
     "output_type": "stream",
     "text": [
      "<class 'pandas.core.frame.DataFrame'>\n",
      "Int64Index: 24877 entries, 0 to 5124\n",
      "Data columns (total 3 columns):\n",
      " #   Column       Non-Null Count  Dtype \n",
      "---  ------       --------------  ----- \n",
      " 0   timestamp    24877 non-null  object\n",
      " 1   customer_no  24877 non-null  int64 \n",
      " 2   location     24877 non-null  object\n",
      "dtypes: int64(1), object(2)\n",
      "memory usage: 777.4+ KB\n"
     ]
    }
   ],
   "source": [
    "df_combined.info()"
   ]
  },
  {
   "cell_type": "code",
   "execution_count": 8,
   "id": "7501b6a2-68a4-48b6-a9c9-c5be0d8b9825",
   "metadata": {},
   "outputs": [
    {
     "data": {
      "text/plain": [
       "array(['dairy', 'spices', 'fruit', 'checkout', 'drinks'], dtype=object)"
      ]
     },
     "execution_count": 8,
     "metadata": {},
     "output_type": "execute_result"
    }
   ],
   "source": [
    "df_combined['location'].unique()"
   ]
  },
  {
   "cell_type": "code",
   "execution_count": 10,
   "id": "7cd8ec29-52ea-4898-9c4b-caa1293acf2e",
   "metadata": {},
   "outputs": [],
   "source": [
    "df_combined['timestamp'] = pd.to_datetime(df_combined['timestamp'], infer_datetime_format=True)"
   ]
  },
  {
   "cell_type": "code",
   "execution_count": 11,
   "id": "0d97e248-1e67-48b1-904a-c30845871f3f",
   "metadata": {},
   "outputs": [],
   "source": [
    "df_combined['year'] = pd.DatetimeIndex(df_combined['timestamp']).year\n",
    "df_combined['month'] = pd.DatetimeIndex(df_combined['timestamp']).month\n",
    "df_combined['day'] = pd.DatetimeIndex(df_combined['timestamp']).day\n",
    "df_combined['hour'] = pd.DatetimeIndex(df_combined['timestamp']).hour\n",
    "df_combined['minute'] = pd.DatetimeIndex(df_combined['timestamp']).minute"
   ]
  },
  {
   "cell_type": "code",
   "execution_count": 12,
   "id": "609b0e2c-c389-46b6-8313-7e431bf50334",
   "metadata": {},
   "outputs": [
    {
     "data": {
      "text/html": [
       "<div>\n",
       "<style scoped>\n",
       "    .dataframe tbody tr th:only-of-type {\n",
       "        vertical-align: middle;\n",
       "    }\n",
       "\n",
       "    .dataframe tbody tr th {\n",
       "        vertical-align: top;\n",
       "    }\n",
       "\n",
       "    .dataframe thead th {\n",
       "        text-align: right;\n",
       "    }\n",
       "</style>\n",
       "<table border=\"1\" class=\"dataframe\">\n",
       "  <thead>\n",
       "    <tr style=\"text-align: right;\">\n",
       "      <th></th>\n",
       "      <th>timestamp</th>\n",
       "      <th>customer_no</th>\n",
       "      <th>location</th>\n",
       "      <th>year</th>\n",
       "      <th>month</th>\n",
       "      <th>day</th>\n",
       "      <th>hour</th>\n",
       "      <th>minute</th>\n",
       "    </tr>\n",
       "  </thead>\n",
       "  <tbody>\n",
       "    <tr>\n",
       "      <th>0</th>\n",
       "      <td>2019-09-02 07:03:00</td>\n",
       "      <td>1</td>\n",
       "      <td>dairy</td>\n",
       "      <td>2019</td>\n",
       "      <td>9</td>\n",
       "      <td>2</td>\n",
       "      <td>7</td>\n",
       "      <td>3</td>\n",
       "    </tr>\n",
       "    <tr>\n",
       "      <th>1</th>\n",
       "      <td>2019-09-02 07:03:00</td>\n",
       "      <td>2</td>\n",
       "      <td>dairy</td>\n",
       "      <td>2019</td>\n",
       "      <td>9</td>\n",
       "      <td>2</td>\n",
       "      <td>7</td>\n",
       "      <td>3</td>\n",
       "    </tr>\n",
       "    <tr>\n",
       "      <th>2</th>\n",
       "      <td>2019-09-02 07:04:00</td>\n",
       "      <td>3</td>\n",
       "      <td>dairy</td>\n",
       "      <td>2019</td>\n",
       "      <td>9</td>\n",
       "      <td>2</td>\n",
       "      <td>7</td>\n",
       "      <td>4</td>\n",
       "    </tr>\n",
       "    <tr>\n",
       "      <th>3</th>\n",
       "      <td>2019-09-02 07:04:00</td>\n",
       "      <td>4</td>\n",
       "      <td>dairy</td>\n",
       "      <td>2019</td>\n",
       "      <td>9</td>\n",
       "      <td>2</td>\n",
       "      <td>7</td>\n",
       "      <td>4</td>\n",
       "    </tr>\n",
       "    <tr>\n",
       "      <th>4</th>\n",
       "      <td>2019-09-02 07:04:00</td>\n",
       "      <td>5</td>\n",
       "      <td>spices</td>\n",
       "      <td>2019</td>\n",
       "      <td>9</td>\n",
       "      <td>2</td>\n",
       "      <td>7</td>\n",
       "      <td>4</td>\n",
       "    </tr>\n",
       "    <tr>\n",
       "      <th>...</th>\n",
       "      <td>...</td>\n",
       "      <td>...</td>\n",
       "      <td>...</td>\n",
       "      <td>...</td>\n",
       "      <td>...</td>\n",
       "      <td>...</td>\n",
       "      <td>...</td>\n",
       "      <td>...</td>\n",
       "    </tr>\n",
       "    <tr>\n",
       "      <th>5120</th>\n",
       "      <td>2019-09-06 21:50:00</td>\n",
       "      <td>1500</td>\n",
       "      <td>dairy</td>\n",
       "      <td>2019</td>\n",
       "      <td>9</td>\n",
       "      <td>6</td>\n",
       "      <td>21</td>\n",
       "      <td>50</td>\n",
       "    </tr>\n",
       "    <tr>\n",
       "      <th>5121</th>\n",
       "      <td>2019-09-06 21:50:00</td>\n",
       "      <td>1507</td>\n",
       "      <td>checkout</td>\n",
       "      <td>2019</td>\n",
       "      <td>9</td>\n",
       "      <td>6</td>\n",
       "      <td>21</td>\n",
       "      <td>50</td>\n",
       "    </tr>\n",
       "    <tr>\n",
       "      <th>5122</th>\n",
       "      <td>2019-09-06 21:50:00</td>\n",
       "      <td>1508</td>\n",
       "      <td>checkout</td>\n",
       "      <td>2019</td>\n",
       "      <td>9</td>\n",
       "      <td>6</td>\n",
       "      <td>21</td>\n",
       "      <td>50</td>\n",
       "    </tr>\n",
       "    <tr>\n",
       "      <th>5123</th>\n",
       "      <td>2019-09-06 21:50:00</td>\n",
       "      <td>1509</td>\n",
       "      <td>drinks</td>\n",
       "      <td>2019</td>\n",
       "      <td>9</td>\n",
       "      <td>6</td>\n",
       "      <td>21</td>\n",
       "      <td>50</td>\n",
       "    </tr>\n",
       "    <tr>\n",
       "      <th>5124</th>\n",
       "      <td>2019-09-06 21:50:00</td>\n",
       "      <td>1510</td>\n",
       "      <td>spices</td>\n",
       "      <td>2019</td>\n",
       "      <td>9</td>\n",
       "      <td>6</td>\n",
       "      <td>21</td>\n",
       "      <td>50</td>\n",
       "    </tr>\n",
       "  </tbody>\n",
       "</table>\n",
       "<p>24877 rows × 8 columns</p>\n",
       "</div>"
      ],
      "text/plain": [
       "               timestamp  customer_no  location  year  month  day  hour  \\\n",
       "0    2019-09-02 07:03:00            1     dairy  2019      9    2     7   \n",
       "1    2019-09-02 07:03:00            2     dairy  2019      9    2     7   \n",
       "2    2019-09-02 07:04:00            3     dairy  2019      9    2     7   \n",
       "3    2019-09-02 07:04:00            4     dairy  2019      9    2     7   \n",
       "4    2019-09-02 07:04:00            5    spices  2019      9    2     7   \n",
       "...                  ...          ...       ...   ...    ...  ...   ...   \n",
       "5120 2019-09-06 21:50:00         1500     dairy  2019      9    6    21   \n",
       "5121 2019-09-06 21:50:00         1507  checkout  2019      9    6    21   \n",
       "5122 2019-09-06 21:50:00         1508  checkout  2019      9    6    21   \n",
       "5123 2019-09-06 21:50:00         1509    drinks  2019      9    6    21   \n",
       "5124 2019-09-06 21:50:00         1510    spices  2019      9    6    21   \n",
       "\n",
       "      minute  \n",
       "0          3  \n",
       "1          3  \n",
       "2          4  \n",
       "3          4  \n",
       "4          4  \n",
       "...      ...  \n",
       "5120      50  \n",
       "5121      50  \n",
       "5122      50  \n",
       "5123      50  \n",
       "5124      50  \n",
       "\n",
       "[24877 rows x 8 columns]"
      ]
     },
     "execution_count": 12,
     "metadata": {},
     "output_type": "execute_result"
    }
   ],
   "source": [
    "df_combined"
   ]
  },
  {
   "cell_type": "markdown",
   "id": "4c71521e-3578-49b0-942b-f815e5d684ba",
   "metadata": {},
   "source": [
    "### 1.1 Calculate the number of customers in each section"
   ]
  },
  {
   "cell_type": "code",
   "execution_count": 13,
   "id": "0e58698a-3ed4-40d2-932f-fc3f6dae249b",
   "metadata": {},
   "outputs": [
    {
     "data": {
      "text/plain": [
       "location\n",
       "checkout    7417\n",
       "dairy       4679\n",
       "drinks      3905\n",
       "fruit       5122\n",
       "spices      3754\n",
       "Name: customer_no, dtype: int64"
      ]
     },
     "execution_count": 13,
     "metadata": {},
     "output_type": "execute_result"
    }
   ],
   "source": [
    "df_combined.groupby('location')['customer_no'].count()"
   ]
  },
  {
   "cell_type": "code",
   "execution_count": 63,
   "id": "3dc03bb6-a737-4122-92de-0e22705343d3",
   "metadata": {},
   "outputs": [
    {
     "data": {
      "text/plain": [
       "<AxesSubplot:ylabel='Location'>"
      ]
     },
     "execution_count": 63,
     "metadata": {},
     "output_type": "execute_result"
    },
    {
     "data": {
      "image/png": "[encoded data removed]",
      "text/plain": [
       "<Figure size 1008x432 with 1 Axes>"
      ]
     },
     "metadata": {
      "needs_background": "light"
     },
     "output_type": "display_data"
    }
   ],
   "source": [
    "df_combined.groupby('location')['customer_no'].count().plot(xlabel='Location', ylabel='Nr. of customers',kind='barh')"
   ]
  },
  {
   "cell_type": "markdown",
   "id": "b943d090-cc65-4dc9-ac09-91146688382d",
   "metadata": {},
   "source": [
    "### 1.2 Calculate the total number of customers in each section over time"
   ]
  },
  {
   "cell_type": "code",
   "execution_count": 15,
   "id": "f416497d-0192-4762-9b5d-1bbf347d8818",
   "metadata": {},
   "outputs": [
    {
     "data": {
      "text/html": [
       "<div>\n",
       "<style scoped>\n",
       "    .dataframe tbody tr th:only-of-type {\n",
       "        vertical-align: middle;\n",
       "    }\n",
       "\n",
       "    .dataframe tbody tr th {\n",
       "        vertical-align: top;\n",
       "    }\n",
       "\n",
       "    .dataframe thead th {\n",
       "        text-align: right;\n",
       "    }\n",
       "</style>\n",
       "<table border=\"1\" class=\"dataframe\">\n",
       "  <thead>\n",
       "    <tr style=\"text-align: right;\">\n",
       "      <th></th>\n",
       "      <th>location</th>\n",
       "      <th>checkout</th>\n",
       "      <th>dairy</th>\n",
       "      <th>drinks</th>\n",
       "      <th>fruit</th>\n",
       "      <th>spices</th>\n",
       "    </tr>\n",
       "    <tr>\n",
       "      <th>day</th>\n",
       "      <th>hour</th>\n",
       "      <th></th>\n",
       "      <th></th>\n",
       "      <th></th>\n",
       "      <th></th>\n",
       "      <th></th>\n",
       "    </tr>\n",
       "  </thead>\n",
       "  <tbody>\n",
       "    <tr>\n",
       "      <th rowspan=\"5\" valign=\"top\">2</th>\n",
       "      <th>7</th>\n",
       "      <td>92</td>\n",
       "      <td>59</td>\n",
       "      <td>60</td>\n",
       "      <td>54</td>\n",
       "      <td>52</td>\n",
       "    </tr>\n",
       "    <tr>\n",
       "      <th>8</th>\n",
       "      <td>112</td>\n",
       "      <td>68</td>\n",
       "      <td>65</td>\n",
       "      <td>68</td>\n",
       "      <td>51</td>\n",
       "    </tr>\n",
       "    <tr>\n",
       "      <th>9</th>\n",
       "      <td>85</td>\n",
       "      <td>50</td>\n",
       "      <td>57</td>\n",
       "      <td>76</td>\n",
       "      <td>40</td>\n",
       "    </tr>\n",
       "    <tr>\n",
       "      <th>10</th>\n",
       "      <td>90</td>\n",
       "      <td>58</td>\n",
       "      <td>35</td>\n",
       "      <td>47</td>\n",
       "      <td>52</td>\n",
       "    </tr>\n",
       "    <tr>\n",
       "      <th>11</th>\n",
       "      <td>55</td>\n",
       "      <td>36</td>\n",
       "      <td>24</td>\n",
       "      <td>41</td>\n",
       "      <td>33</td>\n",
       "    </tr>\n",
       "    <tr>\n",
       "      <th>...</th>\n",
       "      <th>...</th>\n",
       "      <td>...</td>\n",
       "      <td>...</td>\n",
       "      <td>...</td>\n",
       "      <td>...</td>\n",
       "      <td>...</td>\n",
       "    </tr>\n",
       "    <tr>\n",
       "      <th rowspan=\"5\" valign=\"top\">6</th>\n",
       "      <th>17</th>\n",
       "      <td>115</td>\n",
       "      <td>73</td>\n",
       "      <td>76</td>\n",
       "      <td>87</td>\n",
       "      <td>65</td>\n",
       "    </tr>\n",
       "    <tr>\n",
       "      <th>18</th>\n",
       "      <td>148</td>\n",
       "      <td>105</td>\n",
       "      <td>93</td>\n",
       "      <td>104</td>\n",
       "      <td>98</td>\n",
       "    </tr>\n",
       "    <tr>\n",
       "      <th>19</th>\n",
       "      <td>135</td>\n",
       "      <td>84</td>\n",
       "      <td>76</td>\n",
       "      <td>93</td>\n",
       "      <td>65</td>\n",
       "    </tr>\n",
       "    <tr>\n",
       "      <th>20</th>\n",
       "      <td>103</td>\n",
       "      <td>53</td>\n",
       "      <td>56</td>\n",
       "      <td>69</td>\n",
       "      <td>54</td>\n",
       "    </tr>\n",
       "    <tr>\n",
       "      <th>21</th>\n",
       "      <td>52</td>\n",
       "      <td>39</td>\n",
       "      <td>34</td>\n",
       "      <td>36</td>\n",
       "      <td>20</td>\n",
       "    </tr>\n",
       "  </tbody>\n",
       "</table>\n",
       "<p>75 rows × 5 columns</p>\n",
       "</div>"
      ],
      "text/plain": [
       "location  checkout  dairy  drinks  fruit  spices\n",
       "day hour                                        \n",
       "2   7           92     59      60     54      52\n",
       "    8          112     68      65     68      51\n",
       "    9           85     50      57     76      40\n",
       "    10          90     58      35     47      52\n",
       "    11          55     36      24     41      33\n",
       "...            ...    ...     ...    ...     ...\n",
       "6   17         115     73      76     87      65\n",
       "    18         148    105      93    104      98\n",
       "    19         135     84      76     93      65\n",
       "    20         103     53      56     69      54\n",
       "    21          52     39      34     36      20\n",
       "\n",
       "[75 rows x 5 columns]"
      ]
     },
     "execution_count": 15,
     "metadata": {},
     "output_type": "execute_result"
    }
   ],
   "source": [
    "df_combined.groupby(['day', 'hour', 'location'])['customer_no'].count().unstack()"
   ]
  },
  {
   "cell_type": "code",
   "execution_count": 66,
   "id": "54b26e9c-465a-499e-8969-5c91dcc1e283",
   "metadata": {},
   "outputs": [
    {
     "data": {
      "text/plain": [
       "array([<AxesSubplot:title={'center':'checkout'}, xlabel='day,hour'>,\n",
       "       <AxesSubplot:title={'center':'dairy'}, xlabel='day,hour'>,\n",
       "       <AxesSubplot:title={'center':'drinks'}, xlabel='day,hour'>,\n",
       "       <AxesSubplot:title={'center':'fruit'}, xlabel='day,hour'>,\n",
       "       <AxesSubplot:title={'center':'spices'}, xlabel='day,hour'>],\n",
       "      dtype=object)"
      ]
     },
     "execution_count": 66,
     "metadata": {},
     "output_type": "execute_result"
    },
    {
     "data": {
      "image/png": "[encoded data removed]",
      "text/plain": [
       "<Figure size 1008x432 with 5 Axes>"
      ]
     },
     "metadata": {
      "needs_background": "light"
     },
     "output_type": "display_data"
    }
   ],
   "source": [
    "df_combined.groupby(['day', 'hour', 'location'])['customer_no'].count().unstack().plot(subplots=True, kind='bar')"
   ]
  },
  {
   "cell_type": "code",
   "execution_count": 78,
   "id": "e43aac80-0139-4d0c-9843-fc62aa489754",
   "metadata": {},
   "outputs": [
    {
     "data": {
      "text/plain": [
       "array([<AxesSubplot:xlabel='day,hour'>, <AxesSubplot:xlabel='day,hour'>,\n",
       "       <AxesSubplot:xlabel='day,hour'>, <AxesSubplot:xlabel='day,hour'>,\n",
       "       <AxesSubplot:xlabel='day,hour'>], dtype=object)"
      ]
     },
     "execution_count": 78,
     "metadata": {},
     "output_type": "execute_result"
    },
    {
     "data": {
      "image/png": "[encoded data removed]",
      "text/plain": [
       "<Figure size 1008x432 with 5 Axes>"
      ]
     },
     "metadata": {
      "needs_background": "light"
     },
     "output_type": "display_data"
    }
   ],
   "source": [
    "df_combined.groupby(['day', 'hour', 'location'])['customer_no'].count().unstack().plot(subplots=True)"
   ]
  },
  {
   "cell_type": "markdown",
   "id": "3588b26d-5a53-4ee2-b8ce-c667224e2e54",
   "metadata": {},
   "source": [
    "### 1.3 Display the number of customers at checkout over time"
   ]
  },
  {
   "cell_type": "code",
   "execution_count": 19,
   "id": "e075df70-1682-439e-bacd-3732d43b10cb",
   "metadata": {},
   "outputs": [],
   "source": [
    "ch = df_combined.loc[df_combined['location'] == 'checkout']"
   ]
  },
  {
   "cell_type": "code",
   "execution_count": 20,
   "id": "2a4a8d58-22b3-4b61-92b4-3208a2cee9ab",
   "metadata": {},
   "outputs": [
    {
     "data": {
      "text/plain": [
       "hour\n",
       "7     454\n",
       "8     677\n",
       "9     455\n",
       "10    427\n",
       "11    342\n",
       "12    384\n",
       "13    514\n",
       "14    496\n",
       "15    412\n",
       "16    518\n",
       "17    556\n",
       "18    630\n",
       "19    755\n",
       "20    492\n",
       "21    305\n",
       "Name: customer_no, dtype: int64"
      ]
     },
     "execution_count": 20,
     "metadata": {},
     "output_type": "execute_result"
    }
   ],
   "source": [
    "ch.groupby('hour')['customer_no'].count()"
   ]
  },
  {
   "cell_type": "code",
   "execution_count": 65,
   "id": "6786b44b-21b2-462a-b814-1433bd99e385",
   "metadata": {},
   "outputs": [
    {
     "data": {
      "text/plain": [
       "<function matplotlib.pyplot.show(close=None, block=None)>"
      ]
     },
     "execution_count": 65,
     "metadata": {},
     "output_type": "execute_result"
    },
    {
     "data": {
      "image/png": "[encoded data removed]",
      "text/plain": [
       "<Figure size 1008x432 with 1 Axes>"
      ]
     },
     "metadata": {
      "needs_background": "light"
     },
     "output_type": "display_data"
    }
   ],
   "source": [
    "ch.groupby('hour')['customer_no'].count().plot(xlabel='Hour of the day', ylabel='Nr. of checkouts', ylim=False, kind='bar')\n",
    "plt.show"
   ]
  },
  {
   "cell_type": "code",
   "execution_count": 22,
   "id": "3fdad046-5727-47a8-a90f-01a2e5e85168",
   "metadata": {},
   "outputs": [
    {
     "data": {
      "text/plain": [
       "[454, 677, 455, 427, 342, 384, 514, 496, 412, 518, 556, 630, 755, 492, 305]"
      ]
     },
     "execution_count": 22,
     "metadata": {},
     "output_type": "execute_result"
    }
   ],
   "source": [
    "# Creating a checkout-list for 1.5\n",
    "checkout = list(ch.groupby('hour')['customer_no'].count())\n",
    "checkout"
   ]
  },
  {
   "cell_type": "markdown",
   "id": "d2804735-7d4b-4107-bb98-7570cb2cd754",
   "metadata": {},
   "source": [
    " ### 1.4 Calculate the time each customer spent in the market"
   ]
  },
  {
   "cell_type": "code",
   "execution_count": 23,
   "id": "25ba743b-8d29-4f07-b51c-96c0378e818d",
   "metadata": {},
   "outputs": [],
   "source": [
    "customer_in_market = df_combined.groupby(by=['day','customer_no'])['minute'].transform(lambda x: x.max() -x.min())"
   ]
  },
  {
   "cell_type": "code",
   "execution_count": 24,
   "id": "2050be04-1bde-401a-aadd-c309ce474b45",
   "metadata": {},
   "outputs": [
    {
     "data": {
      "text/plain": [
       "0       2\n",
       "1       3\n",
       "2       2\n",
       "3       4\n",
       "4       1\n",
       "       ..\n",
       "5120    9\n",
       "5121    2\n",
       "5122    2\n",
       "5123    0\n",
       "5124    0\n",
       "Name: minute, Length: 24877, dtype: int64"
      ]
     },
     "execution_count": 24,
     "metadata": {},
     "output_type": "execute_result"
    }
   ],
   "source": [
    "customer_in_market"
   ]
  },
  {
   "cell_type": "code",
   "execution_count": 25,
   "id": "226030c6-8192-4de7-abbc-22ff4ceee232",
   "metadata": {},
   "outputs": [
    {
     "data": {
      "text/plain": [
       "59"
      ]
     },
     "execution_count": 25,
     "metadata": {},
     "output_type": "execute_result"
    }
   ],
   "source": [
    "customer_in_market.max()"
   ]
  },
  {
   "cell_type": "code",
   "execution_count": 26,
   "id": "a5a695bc-7b6b-4b72-8cf7-0de3cdda88ab",
   "metadata": {},
   "outputs": [
    {
     "data": {
      "text/plain": [
       "1     2534\n",
       "2     2198\n",
       "3     2011\n",
       "4     1900\n",
       "5     1660\n",
       "6     1523\n",
       "7     1420\n",
       "8      947\n",
       "9      931\n",
       "10     852\n",
       "12     685\n",
       "13     626\n",
       "11     626\n",
       "58     614\n",
       "59     573\n",
       "14     485\n",
       "15     462\n",
       "56     420\n",
       "57     414\n",
       "17     354\n",
       "16     344\n",
       "55     290\n",
       "18     287\n",
       "54     269\n",
       "19     265\n",
       "21     240\n",
       "20     214\n",
       "23     144\n",
       "53     139\n",
       "22     132\n",
       "51     117\n",
       "52     116\n",
       "50     106\n",
       "24     105\n",
       "25      97\n",
       "49      76\n",
       "29      51\n",
       "32      51\n",
       "48      48\n",
       "45      44\n",
       "46      44\n",
       "39      43\n",
       "31      41\n",
       "27      40\n",
       "30      38\n",
       "47      35\n",
       "41      34\n",
       "37      33\n",
       "26      29\n",
       "28      28\n",
       "42      26\n",
       "34      26\n",
       "33      26\n",
       "40      17\n",
       "44      14\n",
       "43      13\n",
       "0        9\n",
       "35       6\n",
       "36       5\n",
       "Name: minute, dtype: int64"
      ]
     },
     "execution_count": 26,
     "metadata": {},
     "output_type": "execute_result"
    }
   ],
   "source": [
    "customer_in_market.value_counts()"
   ]
  },
  {
   "cell_type": "code",
   "execution_count": 27,
   "id": "c6b81253-4522-4c4e-b666-a6d6dce5d83b",
   "metadata": {},
   "outputs": [
    {
     "data": {
      "text/plain": [
       "<AxesSubplot:xlabel='Number of minutes', ylabel='Occurence (Nr. of customers)'>"
      ]
     },
     "execution_count": 27,
     "metadata": {},
     "output_type": "execute_result"
    },
    {
     "data": {
      "image/png": "[encoded data removed]",
      "text/plain": [
       "<Figure size 1008x432 with 1 Axes>"
      ]
     },
     "metadata": {
      "needs_background": "light"
     },
     "output_type": "display_data"
    }
   ],
   "source": [
    "customer_in_market.value_counts(ascending=False).plot(xlabel= 'Number of minutes',ylabel='Occurence (Nr. of customers)', kind='bar')"
   ]
  },
  {
   "cell_type": "code",
   "execution_count": 28,
   "id": "89ac7240-3b7c-4fa8-b68f-5f7e65920a64",
   "metadata": {},
   "outputs": [
    {
     "data": {
      "text/plain": [
       "14.167745306909998"
      ]
     },
     "execution_count": 28,
     "metadata": {},
     "output_type": "execute_result"
    }
   ],
   "source": [
    "customer_in_market.mean()"
   ]
  },
  {
   "cell_type": "code",
   "execution_count": 115,
   "id": "66d33bed-8ce2-4ab7-a1c3-6b2473e5a034",
   "metadata": {},
   "outputs": [
    {
     "data": {
      "text/plain": [
       "7.0"
      ]
     },
     "execution_count": 115,
     "metadata": {},
     "output_type": "execute_result"
    }
   ],
   "source": [
    "customer_in_market.median()"
   ]
  },
  {
   "cell_type": "markdown",
   "id": "aaeba7db-8f63-4a7f-b89a-c336921279ce",
   "metadata": {},
   "source": [
    "### 1.5 Calculate the total number of customers in the supermarket over time"
   ]
  },
  {
   "cell_type": "code",
   "execution_count": 33,
   "id": "8ffa0bfb-5ed5-4609-8d8d-74a9766f0e1f",
   "metadata": {},
   "outputs": [],
   "source": [
    "# Counting all customers per hour\n",
    "hour_count = df_combined.groupby('hour')['customer_no'].count()"
   ]
  },
  {
   "cell_type": "code",
   "execution_count": 79,
   "id": "931a16b2-9eb9-4798-8125-cb98c14d95d5",
   "metadata": {},
   "outputs": [
    {
     "data": {
      "text/plain": [
       "<AxesSubplot:xlabel='hour'>"
      ]
     },
     "execution_count": 79,
     "metadata": {},
     "output_type": "execute_result"
    },
    {
     "data": {
      "image/png": "[encoded data removed]",
      "text/plain": [
       "<Figure size 1008x432 with 1 Axes>"
      ]
     },
     "metadata": {
      "needs_background": "light"
     },
     "output_type": "display_data"
    }
   ],
   "source": [
    "df_combined.groupby('hour')['customer_no'].count().plot()"
   ]
  },
  {
   "cell_type": "code",
   "execution_count": 34,
   "id": "557fb99d-7f8c-4e42-a45d-6d006873bb14",
   "metadata": {
    "tags": []
   },
   "outputs": [
    {
     "data": {
      "text/plain": [
       "<AxesSubplot:xlabel='hour'>"
      ]
     },
     "execution_count": 34,
     "metadata": {},
     "output_type": "execute_result"
    },
    {
     "data": {
      "image/png": "[encoded data removed]",
      "text/plain": [
       "<Figure size 1008x432 with 1 Axes>"
      ]
     },
     "metadata": {
      "needs_background": "light"
     },
     "output_type": "display_data"
    }
   ],
   "source": [
    "df_combined.groupby('hour')['customer_no'].count().plot(kind='bar')"
   ]
  },
  {
   "cell_type": "code",
   "execution_count": 35,
   "id": "88abdcf7-90a0-4291-b474-0b36df60f2b6",
   "metadata": {},
   "outputs": [
    {
     "data": {
      "text/plain": [
       "pandas.core.series.Series"
      ]
     },
     "execution_count": 35,
     "metadata": {},
     "output_type": "execute_result"
    }
   ],
   "source": [
    "type(hour_count)"
   ]
  },
  {
   "cell_type": "code",
   "execution_count": 36,
   "id": "10f17eed-4462-459b-91a7-e25cf1d886fb",
   "metadata": {},
   "outputs": [
    {
     "data": {
      "text/plain": [
       "hour\n",
       "7     1544\n",
       "8     2290\n",
       "9     1520\n",
       "10    1431\n",
       "11    1111\n",
       "12    1252\n",
       "13    1754\n",
       "14    1650\n",
       "15    1335\n",
       "16    1742\n",
       "17    1889\n",
       "18    2215\n",
       "19    2558\n",
       "20    1655\n",
       "21     931\n",
       "Name: customer_no, dtype: int64"
      ]
     },
     "execution_count": 36,
     "metadata": {},
     "output_type": "execute_result"
    }
   ],
   "source": [
    "hour_count"
   ]
  },
  {
   "cell_type": "code",
   "execution_count": 37,
   "id": "5a0e047f-ebbb-4ea8-8fef-dbbbea3c5a91",
   "metadata": {},
   "outputs": [
    {
     "data": {
      "text/plain": [
       "[454, 677, 455, 427, 342, 384, 514, 496, 412, 518, 556, 630, 755, 492, 305]"
      ]
     },
     "execution_count": 37,
     "metadata": {},
     "output_type": "execute_result"
    }
   ],
   "source": [
    "checkout"
   ]
  },
  {
   "cell_type": "code",
   "execution_count": 38,
   "id": "72882ba3-d92c-4fcb-a80f-7b946c45ee79",
   "metadata": {},
   "outputs": [],
   "source": [
    "# Subtracting the checkouts per hour for a total count/h\n",
    "total_customs = hour_count - checkout"
   ]
  },
  {
   "cell_type": "code",
   "execution_count": 39,
   "id": "d3e4156d-3a04-4b8a-9a70-2a485df3dee6",
   "metadata": {},
   "outputs": [
    {
     "data": {
      "text/plain": [
       "hour\n",
       "7     1090\n",
       "8     1613\n",
       "9     1065\n",
       "10    1004\n",
       "11     769\n",
       "12     868\n",
       "13    1240\n",
       "14    1154\n",
       "15     923\n",
       "16    1224\n",
       "17    1333\n",
       "18    1585\n",
       "19    1803\n",
       "20    1163\n",
       "21     626\n",
       "Name: customer_no, dtype: int64"
      ]
     },
     "execution_count": 39,
     "metadata": {},
     "output_type": "execute_result"
    }
   ],
   "source": [
    "total_customs"
   ]
  },
  {
   "cell_type": "code",
   "execution_count": 40,
   "id": "6925df95-4648-4642-b6d6-b883078c9669",
   "metadata": {},
   "outputs": [
    {
     "data": {
      "text/plain": [
       "<AxesSubplot:xlabel='Hour of the day', ylabel='Nr. of customers in the supermarket'>"
      ]
     },
     "execution_count": 40,
     "metadata": {},
     "output_type": "execute_result"
    },
    {
     "data": {
      "image/png": "[encoded data removed]",
      "text/plain": [
       "<Figure size 1008x432 with 1 Axes>"
      ]
     },
     "metadata": {
      "needs_background": "light"
     },
     "output_type": "display_data"
    }
   ],
   "source": [
    "total_customs.plot(xlabel= 'Hour of the day', ylabel= 'Nr. of customers in the supermarket', kind='bar')"
   ]
  },
  {
   "cell_type": "markdown",
   "id": "6650ee08-de79-424c-a2c1-e1fdea306d50",
   "metadata": {},
   "source": [
    "### 1.6 Plot the distribution of customers of their first visited section versus following sections as basis for a MCMC-simulation"
   ]
  },
  {
   "cell_type": "code",
   "execution_count": 46,
   "id": "98fe36c3-96a2-4664-9524-495594a0c5da",
   "metadata": {},
   "outputs": [],
   "source": [
    "df_combined['next_loc'] = df_combined.groupby(['day', 'customer_no'])['location'].transform(lambda x: x.shift(-1))"
   ]
  },
  {
   "cell_type": "code",
   "execution_count": 47,
   "id": "4b7ec37d-f482-4975-a172-2d07e57e7f48",
   "metadata": {},
   "outputs": [],
   "source": [
    "df_combined.head(15)"
   ]
  },
  {
   "cell_type": "code",
   "execution_count": 48,
   "id": "e5d61ece-36df-4285-a36c-99b11f6f09fc",
   "metadata": {},
   "outputs": [],
   "source": [
    "df_combined.isna().sum()"
   ]
  },
  {
   "cell_type": "code",
   "execution_count": 49,
   "id": "59e2adfd-22c0-49ab-85d3-e1e730363c32",
   "metadata": {},
   "outputs": [],
   "source": [
    "df_combined['next_loc'] = df_combined['next_loc'].fillna('checkout')"
   ]
  },
  {
   "cell_type": "code",
   "execution_count": 50,
   "id": "e2c0d2d5-637f-4095-bf8c-951179c1301a",
   "metadata": {},
   "outputs": [],
   "source": [
    "states_probab = pd.crosstab(df_combined['location'], df_combined['next_loc'], normalize=0)"
   ]
  },
  {
   "cell_type": "code",
   "execution_count": 51,
   "id": "435f7a1d-331b-4f6f-bd2f-ccae2f201cf3",
   "metadata": {},
   "outputs": [
    {
     "data": {
      "text/html": [
       "<div>\n",
       "<style scoped>\n",
       "    .dataframe tbody tr th:only-of-type {\n",
       "        vertical-align: middle;\n",
       "    }\n",
       "\n",
       "    .dataframe tbody tr th {\n",
       "        vertical-align: top;\n",
       "    }\n",
       "\n",
       "    .dataframe thead th {\n",
       "        text-align: right;\n",
       "    }\n",
       "</style>\n",
       "<table border=\"1\" class=\"dataframe\">\n",
       "  <thead>\n",
       "    <tr style=\"text-align: right;\">\n",
       "      <th>next_loc</th>\n",
       "      <th>checkout</th>\n",
       "      <th>dairy</th>\n",
       "      <th>drinks</th>\n",
       "      <th>fruit</th>\n",
       "      <th>spices</th>\n",
       "    </tr>\n",
       "    <tr>\n",
       "      <th>location</th>\n",
       "      <th></th>\n",
       "      <th></th>\n",
       "      <th></th>\n",
       "      <th></th>\n",
       "      <th></th>\n",
       "    </tr>\n",
       "  </thead>\n",
       "  <tbody>\n",
       "    <tr>\n",
       "      <th>checkout</th>\n",
       "      <td>1.000000</td>\n",
       "      <td>0.000000</td>\n",
       "      <td>0.000000</td>\n",
       "      <td>0.000000</td>\n",
       "      <td>0.000000</td>\n",
       "    </tr>\n",
       "    <tr>\n",
       "      <th>dairy</th>\n",
       "      <td>0.393033</td>\n",
       "      <td>0.000000</td>\n",
       "      <td>0.222483</td>\n",
       "      <td>0.189357</td>\n",
       "      <td>0.195127</td>\n",
       "    </tr>\n",
       "    <tr>\n",
       "      <th>drinks</th>\n",
       "      <td>0.537260</td>\n",
       "      <td>0.027145</td>\n",
       "      <td>0.000000</td>\n",
       "      <td>0.218950</td>\n",
       "      <td>0.216645</td>\n",
       "    </tr>\n",
       "    <tr>\n",
       "      <th>fruit</th>\n",
       "      <td>0.500195</td>\n",
       "      <td>0.237993</td>\n",
       "      <td>0.136080</td>\n",
       "      <td>0.000000</td>\n",
       "      <td>0.125732</td>\n",
       "    </tr>\n",
       "    <tr>\n",
       "      <th>spices</th>\n",
       "      <td>0.251998</td>\n",
       "      <td>0.323122</td>\n",
       "      <td>0.272776</td>\n",
       "      <td>0.152104</td>\n",
       "      <td>0.000000</td>\n",
       "    </tr>\n",
       "  </tbody>\n",
       "</table>\n",
       "</div>"
      ],
      "text/plain": [
       "next_loc  checkout     dairy    drinks     fruit    spices\n",
       "location                                                  \n",
       "checkout  1.000000  0.000000  0.000000  0.000000  0.000000\n",
       "dairy     0.393033  0.000000  0.222483  0.189357  0.195127\n",
       "drinks    0.537260  0.027145  0.000000  0.218950  0.216645\n",
       "fruit     0.500195  0.237993  0.136080  0.000000  0.125732\n",
       "spices    0.251998  0.323122  0.272776  0.152104  0.000000"
      ]
     },
     "execution_count": 51,
     "metadata": {},
     "output_type": "execute_result"
    }
   ],
   "source": [
    "states_probab"
   ]
  },
  {
   "cell_type": "code",
   "execution_count": 52,
   "id": "565bc44a-c438-4c4a-95f5-90c9eecd7b35",
   "metadata": {},
   "outputs": [
    {
     "data": {
      "text/plain": [
       "<AxesSubplot:xlabel='next_loc', ylabel='location'>"
      ]
     },
     "execution_count": 52,
     "metadata": {},
     "output_type": "execute_result"
    },
    {
     "data": {
      "image/png": "[encoded data removed]",
      "text/plain": [
       "<Figure size 720x720 with 2 Axes>"
      ]
     },
     "metadata": {
      "needs_background": "light"
     },
     "output_type": "display_data"
    }
   ],
   "source": [
    "plt.figure(figsize=(10,10)) \n",
    "sns.heatmap(states_probab,\n",
    "            cmap=\"YlGnBu\",\n",
    "            annot = True,\n",
    "           fmt='.1g')"
   ]
  },
  {
   "cell_type": "code",
   "execution_count": 94,
   "id": "77447e60-9365-4fe1-92f9-63918c933dd7",
   "metadata": {},
   "outputs": [
    {
     "data": {
      "text/plain": [
       "<AxesSubplot:xlabel='location'>"
      ]
     },
     "execution_count": 94,
     "metadata": {},
     "output_type": "execute_result"
    },
    {
     "data": {
      "image/png": "[encoded data removed]",
      "text/plain": [
       "<Figure size 1008x432 with 1 Axes>"
      ]
     },
     "metadata": {
      "needs_background": "light"
     },
     "output_type": "display_data"
    }
   ],
   "source": [
    "states_probab.plot(kind='bar')"
   ]
  },
  {
   "cell_type": "markdown",
   "id": "1bdaa226-485b-4d45-97f7-b5f18ac3ce60",
   "metadata": {},
   "source": [
    "## 2.1 Creating a customer-class"
   ]
  },
  {
   "cell_type": "code",
   "execution_count": 116,
   "id": "98a893be-5bff-4cb1-b92b-8b9dc1728a37",
   "metadata": {},
   "outputs": [],
   "source": [
    "class Customer:\n",
    "    \"\"\"\n",
    "    a single customer that moves through the supermarket\n",
    "    in a MCMC simulation\n",
    "    \"\"\"\n",
    "    def __init__(self, name, state, states_probab, budget=100):\n",
    "        self.name = name\n",
    "        self.state = state\n",
    "        self.states_probab = states_probab\n",
    "        self.budget = budget\n",
    "    \n",
    "    def __repr__(self):\n",
    "        return f'<Customer {self.name} is in {self.state} with {self.budget} bucks>'\n",
    "    \n",
    "    def next_state(self):\n",
    "        '''\n",
    "        Propagates the customer to the next state.\n",
    "        Returns nothing.\n",
    "        '''\n",
    "        self.state = np.random.choice(['checkout','dairy','drinks','fruit','spices'], p=states_probab.loc[self.state]) \n",
    "        \n",
    "    def is_active(self):\n",
    "        return self.state != 'checkout'\n",
    "\n",
    "cust1 = Customer('Skullcrusher McMetal', 'drinks', states_probab, 100)     "
   ]
  },
  {
   "cell_type": "code",
   "execution_count": 117,
   "id": "b47ae6b9-794e-4bb6-9980-d86083bf4186",
   "metadata": {},
   "outputs": [
    {
     "name": "stdout",
     "output_type": "stream",
     "text": [
      "<Customer Skullcrusher McMetal is in drinks with 100 bucks>\n"
     ]
    }
   ],
   "source": [
    "print(cust1)"
   ]
  },
  {
   "cell_type": "code",
   "execution_count": 118,
   "id": "4da3ddae-bc4c-4302-aba7-d102bafc1a0c",
   "metadata": {},
   "outputs": [],
   "source": [
    "cust1.next_state()"
   ]
  },
  {
   "cell_type": "code",
   "execution_count": 119,
   "id": "ff4caf93-c371-4f8e-bb0f-f7332e486471",
   "metadata": {},
   "outputs": [
    {
     "name": "stdout",
     "output_type": "stream",
     "text": [
      "<Customer Skullcrusher McMetal is in checkout with 100 bucks>\n"
     ]
    }
   ],
   "source": [
    "print(cust1)"
   ]
  },
  {
   "cell_type": "code",
   "execution_count": 120,
   "id": "c7784002-cef7-4514-bcf6-f38ed4f896df",
   "metadata": {},
   "outputs": [
    {
     "data": {
      "text/plain": [
       "False"
      ]
     },
     "execution_count": 120,
     "metadata": {},
     "output_type": "execute_result"
    }
   ],
   "source": [
    "cust1.is_active()"
   ]
  },
  {
   "cell_type": "code",
   "execution_count": null,
   "id": "97af6f03-9622-4f62-84b2-b45966dfc3ab",
   "metadata": {
    "jupyter": {
     "source_hidden": true
    },
    "tags": []
   },
   "outputs": [],
   "source": []
  }
 ],
 "metadata": {
  "kernelspec": {
   "display_name": "Python 3",
   "language": "python",
   "name": "python3"
  },
  "language_info": {
   "codemirror_mode": {
    "name": "ipython",
    "version": 3
   },
   "file_extension": ".py",
   "mimetype": "text/x-python",
   "name": "python",
   "nbconvert_exporter": "python",
   "pygments_lexer": "ipython3",
   "version": "3.8.8"
  }
 },
 "nbformat": 4,
 "nbformat_minor": 5
}
